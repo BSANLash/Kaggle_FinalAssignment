{
 "cells": [
  {
   "cell_type": "code",
   "execution_count": 2,
   "metadata": {},
   "outputs": [
    {
     "name": "stdout",
     "output_type": "stream",
     "text": [
      "Requirement already satisfied: torch in /opt/conda/lib/python3.6/site-packages (0.4.1.post2)\n",
      "Requirement already satisfied: torchvision in /opt/conda/lib/python3.6/site-packages (0.2.1)\n",
      "Requirement already satisfied: numpy in /opt/conda/lib/python3.6/site-packages (from torchvision) (1.15.3)\n",
      "Requirement already satisfied: pillow>=4.1.1 in /opt/conda/lib/python3.6/site-packages (from torchvision) (5.2.0)\n",
      "Requirement already satisfied: six in /opt/conda/lib/python3.6/site-packages (from torchvision) (1.11.0)\n"
     ]
    }
   ],
   "source": [
    "!pip install torch torchvision"
   ]
  },
  {
   "cell_type": "code",
   "execution_count": 54,
   "metadata": {},
   "outputs": [],
   "source": [
    "import numpy as np \n",
    "import pandas as pd\n",
    "#Load the train-new.csv and test-new.csv into dataframes train and test\n",
    "train1 = pd.read_csv('train1.csv')\n",
    "test1 = pd.read_csv('test1.csv')\n",
    "train.head()\n",
    "\n"
   ]
  },
  {
   "cell_type": "code",
   "execution_count": 15,
   "metadata": {},
   "outputs": [],
   "source": [
    "#Let's get rid of some imports\n",
    "%matplotlib inline\n",
    "import matplotlib.pyplot as plt\n",
    "#Define the model \n",
    "import torch\n",
    "import torch.nn as nn\n",
    "import torch.nn.functional as F"
   ]
  },
  {
   "cell_type": "code",
   "execution_count": 106,
   "metadata": {},
   "outputs": [
    {
     "name": "stdout",
     "output_type": "stream",
     "text": [
      "Id               0\n",
      "MSSubClass       0\n",
      "LotArea          0\n",
      "OverallQual      0\n",
      "OverallCond      0\n",
      "YearBuilt        0\n",
      "YearRemodAdd     0\n",
      "BsmtFinSF1       0\n",
      "BsmtFinSF2       0\n",
      "BsmtUnfSF        0\n",
      "TotalBsmtSF      0\n",
      "1stFlrSF         0\n",
      "2ndFlrSF         0\n",
      "LowQualFinSF     0\n",
      "GrLivArea        0\n",
      "BsmtFullBath     0\n",
      "BsmtHalfBath     0\n",
      "FullBath         0\n",
      "HalfBath         0\n",
      "BedroomAbvGr     0\n",
      "KitchenAbvGr     0\n",
      "TotRmsAbvGrd     0\n",
      "Fireplaces       0\n",
      "GarageCars       0\n",
      "GarageArea       0\n",
      "WoodDeckSF       0\n",
      "OpenPorchSF      0\n",
      "EnclosedPorch    0\n",
      "3SsnPorch        0\n",
      "ScreenPorch      0\n",
      "PoolArea         0\n",
      "MiscVal          0\n",
      "MoSold           0\n",
      "YrSold           0\n",
      "SalePrice        0\n",
      "dtype: int64\n"
     ]
    }
   ],
   "source": [
    "import numpy as np\n",
    "#check for missing values\n",
    "print(np.sum(np.isnan(train1)))"
   ]
  },
  {
   "cell_type": "code",
   "execution_count": 91,
   "metadata": {},
   "outputs": [],
   "source": [
    "#Remove Non-numeric columns\n",
    "train1 = train1.drop(['MSZoning', 'Street', 'Alley', 'LotShape', 'LandContour', 'ExterQual', 'BsmtFinType2', 'Heating', 'HeatingQC', 'CentralAir', 'Electrical', 'KitchenQual', 'Functional', 'FireplaceQu', 'GarageType', 'GarageFinish', 'GarageQual', 'GarageCond', 'PavedDrive', 'PoolQC', 'Fence', 'MiscFeature', 'SaleType', 'SaleCondition'], axis=1)\n"
   ]
  },
  {
   "cell_type": "code",
   "execution_count": 107,
   "metadata": {},
   "outputs": [
    {
     "data": {
      "text/html": [
       "<div>\n",
       "<style scoped>\n",
       "    .dataframe tbody tr th:only-of-type {\n",
       "        vertical-align: middle;\n",
       "    }\n",
       "\n",
       "    .dataframe tbody tr th {\n",
       "        vertical-align: top;\n",
       "    }\n",
       "\n",
       "    .dataframe thead th {\n",
       "        text-align: right;\n",
       "    }\n",
       "</style>\n",
       "<table border=\"1\" class=\"dataframe\">\n",
       "  <thead>\n",
       "    <tr style=\"text-align: right;\">\n",
       "      <th></th>\n",
       "      <th>Id</th>\n",
       "      <th>MSSubClass</th>\n",
       "      <th>LotArea</th>\n",
       "      <th>OverallQual</th>\n",
       "      <th>OverallCond</th>\n",
       "      <th>YearBuilt</th>\n",
       "      <th>YearRemodAdd</th>\n",
       "      <th>BsmtFinSF1</th>\n",
       "      <th>BsmtFinSF2</th>\n",
       "      <th>BsmtUnfSF</th>\n",
       "      <th>...</th>\n",
       "      <th>WoodDeckSF</th>\n",
       "      <th>OpenPorchSF</th>\n",
       "      <th>EnclosedPorch</th>\n",
       "      <th>3SsnPorch</th>\n",
       "      <th>ScreenPorch</th>\n",
       "      <th>PoolArea</th>\n",
       "      <th>MiscVal</th>\n",
       "      <th>MoSold</th>\n",
       "      <th>YrSold</th>\n",
       "      <th>SalePrice</th>\n",
       "    </tr>\n",
       "  </thead>\n",
       "  <tbody>\n",
       "    <tr>\n",
       "      <th>0</th>\n",
       "      <td>1</td>\n",
       "      <td>60</td>\n",
       "      <td>8450</td>\n",
       "      <td>7</td>\n",
       "      <td>5</td>\n",
       "      <td>2003</td>\n",
       "      <td>2003</td>\n",
       "      <td>706</td>\n",
       "      <td>0</td>\n",
       "      <td>150</td>\n",
       "      <td>...</td>\n",
       "      <td>0</td>\n",
       "      <td>61</td>\n",
       "      <td>0</td>\n",
       "      <td>0</td>\n",
       "      <td>0</td>\n",
       "      <td>0</td>\n",
       "      <td>0</td>\n",
       "      <td>2</td>\n",
       "      <td>2008</td>\n",
       "      <td>208500</td>\n",
       "    </tr>\n",
       "    <tr>\n",
       "      <th>1</th>\n",
       "      <td>2</td>\n",
       "      <td>20</td>\n",
       "      <td>9600</td>\n",
       "      <td>6</td>\n",
       "      <td>8</td>\n",
       "      <td>1976</td>\n",
       "      <td>1976</td>\n",
       "      <td>978</td>\n",
       "      <td>0</td>\n",
       "      <td>284</td>\n",
       "      <td>...</td>\n",
       "      <td>298</td>\n",
       "      <td>0</td>\n",
       "      <td>0</td>\n",
       "      <td>0</td>\n",
       "      <td>0</td>\n",
       "      <td>0</td>\n",
       "      <td>0</td>\n",
       "      <td>5</td>\n",
       "      <td>2007</td>\n",
       "      <td>181500</td>\n",
       "    </tr>\n",
       "    <tr>\n",
       "      <th>2</th>\n",
       "      <td>3</td>\n",
       "      <td>60</td>\n",
       "      <td>11250</td>\n",
       "      <td>7</td>\n",
       "      <td>5</td>\n",
       "      <td>2001</td>\n",
       "      <td>2002</td>\n",
       "      <td>486</td>\n",
       "      <td>0</td>\n",
       "      <td>434</td>\n",
       "      <td>...</td>\n",
       "      <td>0</td>\n",
       "      <td>42</td>\n",
       "      <td>0</td>\n",
       "      <td>0</td>\n",
       "      <td>0</td>\n",
       "      <td>0</td>\n",
       "      <td>0</td>\n",
       "      <td>9</td>\n",
       "      <td>2008</td>\n",
       "      <td>223500</td>\n",
       "    </tr>\n",
       "    <tr>\n",
       "      <th>3</th>\n",
       "      <td>4</td>\n",
       "      <td>70</td>\n",
       "      <td>9550</td>\n",
       "      <td>7</td>\n",
       "      <td>5</td>\n",
       "      <td>1915</td>\n",
       "      <td>1970</td>\n",
       "      <td>216</td>\n",
       "      <td>0</td>\n",
       "      <td>540</td>\n",
       "      <td>...</td>\n",
       "      <td>0</td>\n",
       "      <td>35</td>\n",
       "      <td>272</td>\n",
       "      <td>0</td>\n",
       "      <td>0</td>\n",
       "      <td>0</td>\n",
       "      <td>0</td>\n",
       "      <td>2</td>\n",
       "      <td>2006</td>\n",
       "      <td>140000</td>\n",
       "    </tr>\n",
       "    <tr>\n",
       "      <th>4</th>\n",
       "      <td>5</td>\n",
       "      <td>60</td>\n",
       "      <td>14260</td>\n",
       "      <td>8</td>\n",
       "      <td>5</td>\n",
       "      <td>2000</td>\n",
       "      <td>2000</td>\n",
       "      <td>655</td>\n",
       "      <td>0</td>\n",
       "      <td>490</td>\n",
       "      <td>...</td>\n",
       "      <td>192</td>\n",
       "      <td>84</td>\n",
       "      <td>0</td>\n",
       "      <td>0</td>\n",
       "      <td>0</td>\n",
       "      <td>0</td>\n",
       "      <td>0</td>\n",
       "      <td>12</td>\n",
       "      <td>2008</td>\n",
       "      <td>250000</td>\n",
       "    </tr>\n",
       "  </tbody>\n",
       "</table>\n",
       "<p>5 rows × 35 columns</p>\n",
       "</div>"
      ],
      "text/plain": [
       "   Id  MSSubClass  LotArea  OverallQual  OverallCond  YearBuilt  YearRemodAdd  BsmtFinSF1  BsmtFinSF2  BsmtUnfSF    ...      WoodDeckSF  OpenPorchSF  EnclosedPorch  3SsnPorch  ScreenPorch  PoolArea  MiscVal  MoSold  YrSold  SalePrice\n",
       "0   1          60     8450            7            5       2003          2003         706           0        150    ...               0           61              0          0            0         0        0       2    2008     208500\n",
       "1   2          20     9600            6            8       1976          1976         978           0        284    ...             298            0              0          0            0         0        0       5    2007     181500\n",
       "2   3          60    11250            7            5       2001          2002         486           0        434    ...               0           42              0          0            0         0        0       9    2008     223500\n",
       "3   4          70     9550            7            5       1915          1970         216           0        540    ...               0           35            272          0            0         0        0       2    2006     140000\n",
       "4   5          60    14260            8            5       2000          2000         655           0        490    ...             192           84              0          0            0         0        0      12    2008     250000\n",
       "\n",
       "[5 rows x 35 columns]"
      ]
     },
     "execution_count": 107,
     "metadata": {},
     "output_type": "execute_result"
    }
   ],
   "source": [
    "X = train1.iloc[:,0:80]\n",
    "\n",
    "X.head()\n"
   ]
  },
  {
   "cell_type": "code",
   "execution_count": 108,
   "metadata": {},
   "outputs": [
    {
     "data": {
      "text/plain": [
       "0    208500\n",
       "1    181500\n",
       "2    223500\n",
       "3    140000\n",
       "4    250000\n",
       "Name: SalePrice, dtype: int64"
      ]
     },
     "execution_count": 108,
     "metadata": {},
     "output_type": "execute_result"
    }
   ],
   "source": [
    "y = train1['SalePrice']\n",
    "y.head()"
   ]
  },
  {
   "cell_type": "code",
   "execution_count": 109,
   "metadata": {},
   "outputs": [
    {
     "name": "stdout",
     "output_type": "stream",
     "text": [
      "(1022, 35) (438, 35) (1022,) (438,)\n"
     ]
    }
   ],
   "source": [
    "from sklearn.model_selection  import train_test_split\n",
    "# Split the data into a training set and a test set\n",
    "X_train, X_test, y_train, y_test = train_test_split(X, y, test_size=0.3, random_state=0)\n",
    "\n",
    "print(X_train.shape, X_test.shape, y_train.shape, y_test.shape)"
   ]
  },
  {
   "cell_type": "code",
   "execution_count": 110,
   "metadata": {},
   "outputs": [],
   "source": [
    "#Define training hyperprameters.\n",
    "batch_size = 50\n",
    "num_epochs = 200\n",
    "learning_rate = 0.01\n",
    "size_hidden= 100\n",
    "\n",
    "#Calculate some other hyperparameters based on data.  \n",
    "batch_no = len(X_train) // batch_size  #batches\n",
    "cols=X_train.shape[1] #Number of columns in input matrix\n",
    "n_output=1"
   ]
  },
  {
   "cell_type": "code",
   "execution_count": 111,
   "metadata": {},
   "outputs": [
    {
     "name": "stdout",
     "output_type": "stream",
     "text": [
      "Executing the model on : cpu\n"
     ]
    }
   ],
   "source": [
    "#Create the model\n",
    "device = torch.device(\"cuda:0\" if torch.cuda.is_available() else \"cpu\")\n",
    "# Assume that we are on a CUDA machine, then this should print a CUDA device:\n",
    "print(\"Executing the model on :\",device)\n",
    "class Net(torch.nn.Module):\n",
    "    def __init__(self, n_feature, size_hidden, n_output):\n",
    "        super(Net, self).__init__()\n",
    "        self.hidden = torch.nn.Linear(cols, size_hidden)   # hidden layer\n",
    "        self.predict = torch.nn.Linear(size_hidden, n_output)   # output layer\n",
    "\n",
    "    def forward(self, x):\n",
    "        x = F.relu(self.hidden(x))      # activation function for hidden layer\n",
    "        x = self.predict(x)             # linear output\n",
    "        return x\n",
    "net = Net(cols, size_hidden, n_output)"
   ]
  },
  {
   "cell_type": "code",
   "execution_count": 112,
   "metadata": {},
   "outputs": [
    {
     "name": "stderr",
     "output_type": "stream",
     "text": [
      "/opt/conda/lib/python3.6/site-packages/torch/nn/functional.py:52: UserWarning: size_average and reduce args will be deprecated, please use reduction='sum' instead.\n",
      "  warnings.warn(warning.format(ret))\n"
     ]
    }
   ],
   "source": [
    "#Adam is a specific flavor of gradient decent which is typically better\n",
    "optimizer = torch.optim.Adam(net.parameters(), lr=learning_rate)\n",
    "#optimizer = torch.optim.SGD(net.parameters(), lr=0.2)\n",
    "criterion = torch.nn.MSELoss(size_average=False) "
   ]
  },
  {
   "cell_type": "code",
   "execution_count": 113,
   "metadata": {},
   "outputs": [],
   "source": [
    "#Change to numpy arraay. \n",
    "X_train=X_train.values\n",
    "y_train=y_train.values\n",
    "X_test=X_test.values\n",
    "y_test=y_test.values"
   ]
  },
  {
   "cell_type": "code",
   "execution_count": 114,
   "metadata": {},
   "outputs": [
    {
     "name": "stdout",
     "output_type": "stream",
     "text": [
      "Epoch 1 loss:  8035850905600.0\n",
      "Epoch 2 loss:  414513319744.0\n",
      "Epoch 3 loss:  98856578448.0\n",
      "Epoch 4 loss:  16413565392.0\n",
      "Epoch 5 loss:  6419251824.0\n",
      "Epoch 6 loss:  3150682664.0\n",
      "Epoch 7 loss:  2141857040.0\n",
      "Epoch 8 loss:  1566126120.0\n",
      "Epoch 9 loss:  1310636368.0\n",
      "Epoch 10 loss:  1119353534.0\n",
      "Epoch 11 loss:  948629886.0\n",
      "Epoch 12 loss:  835429242.0\n",
      "Epoch 13 loss:  697009921.0\n",
      "Epoch 14 loss:  576413778.0\n",
      "Epoch 15 loss:  519653547.0\n",
      "Epoch 16 loss:  450172101.0\n",
      "Epoch 17 loss:  360592463.0\n",
      "Epoch 18 loss:  292801294.0\n",
      "Epoch 19 loss:  264391737.0\n",
      "Epoch 20 loss:  213103816.5\n",
      "Epoch 21 loss:  191306366.0\n",
      "Epoch 22 loss:  161807332.5\n",
      "Epoch 23 loss:  134177836.0\n",
      "Epoch 24 loss:  121003971.25\n",
      "Epoch 25 loss:  101547044.0\n",
      "Epoch 26 loss:  87409390.5\n",
      "Epoch 27 loss:  83826621.0\n",
      "Epoch 28 loss:  73568554.25\n",
      "Epoch 29 loss:  70132253.0\n",
      "Epoch 30 loss:  59202019.625\n",
      "Epoch 31 loss:  53598630.5\n",
      "Epoch 32 loss:  52172951.0\n",
      "Epoch 33 loss:  50195489.25\n",
      "Epoch 34 loss:  47809462.125\n",
      "Epoch 35 loss:  43558906.0625\n",
      "Epoch 36 loss:  40578996.75\n",
      "Epoch 37 loss:  40407224.5625\n",
      "Epoch 38 loss:  41382350.75\n",
      "Epoch 39 loss:  35611911.25\n",
      "Epoch 40 loss:  34367458.875\n",
      "Epoch 41 loss:  31777967.75\n",
      "Epoch 42 loss:  31023342.3125\n",
      "Epoch 43 loss:  30055444.0625\n",
      "Epoch 44 loss:  27936822.4375\n",
      "Epoch 45 loss:  27186901.3125\n",
      "Epoch 46 loss:  26316396.75\n",
      "Epoch 47 loss:  24547568.4375\n",
      "Epoch 48 loss:  23291103.5625\n",
      "Epoch 49 loss:  22826653.5\n",
      "Epoch 50 loss:  22477132.9375\n",
      "Epoch 51 loss:  21641232.1875\n",
      "Epoch 52 loss:  22032950.9375\n",
      "Epoch 53 loss:  19302667.84375\n",
      "Epoch 54 loss:  18413200.59375\n",
      "Epoch 55 loss:  17508047.03125\n",
      "Epoch 56 loss:  16736427.4375\n",
      "Epoch 57 loss:  16297817.5625\n",
      "Epoch 58 loss:  15435185.8125\n",
      "Epoch 59 loss:  14305841.90625\n",
      "Epoch 60 loss:  14461482.65625\n",
      "Epoch 61 loss:  12996091.34375\n",
      "Epoch 62 loss:  12972149.3125\n",
      "Epoch 63 loss:  11842530.5625\n",
      "Epoch 64 loss:  11098921.96875\n",
      "Epoch 65 loss:  11527362.40625\n",
      "Epoch 66 loss:  10344873.40625\n",
      "Epoch 67 loss:  9697290.1875\n",
      "Epoch 68 loss:  9833933.109375\n",
      "Epoch 69 loss:  9244042.65625\n",
      "Epoch 70 loss:  8933591.25\n",
      "Epoch 71 loss:  8401802.03125\n",
      "Epoch 72 loss:  8240541.375\n",
      "Epoch 73 loss:  7516894.765625\n",
      "Epoch 74 loss:  7161665.484375\n",
      "Epoch 75 loss:  6977007.7421875\n",
      "Epoch 76 loss:  5922738.90625\n",
      "Epoch 77 loss:  5701366.359375\n",
      "Epoch 78 loss:  6034676.5078125\n",
      "Epoch 79 loss:  5035871.453125\n",
      "Epoch 80 loss:  4867883.078125\n",
      "Epoch 81 loss:  4960407.9140625\n",
      "Epoch 82 loss:  4247264.3203125\n",
      "Epoch 83 loss:  4526589.9765625\n",
      "Epoch 84 loss:  4391400.5859375\n",
      "Epoch 85 loss:  3894908.0859375\n",
      "Epoch 86 loss:  3614112.3203125\n",
      "Epoch 87 loss:  3706092.87109375\n",
      "Epoch 88 loss:  3471014.19140625\n",
      "Epoch 89 loss:  3733166.59375\n",
      "Epoch 90 loss:  3665809.6875\n",
      "Epoch 91 loss:  3069017.82421875\n",
      "Epoch 92 loss:  2697399.28125\n",
      "Epoch 93 loss:  2614923.15625\n",
      "Epoch 94 loss:  2772166.58203125\n",
      "Epoch 95 loss:  3436730.03515625\n",
      "Epoch 96 loss:  2164161.65625\n",
      "Epoch 97 loss:  2430486.640625\n",
      "Epoch 98 loss:  2573496.28125\n",
      "Epoch 99 loss:  2189541.37109375\n",
      "Epoch 100 loss:  2125943.30078125\n",
      "Epoch 101 loss:  1872788.33984375\n",
      "Epoch 102 loss:  1859063.078125\n",
      "Epoch 103 loss:  2375427.345703125\n",
      "Epoch 104 loss:  2079574.51953125\n",
      "Epoch 105 loss:  1925442.1796875\n",
      "Epoch 106 loss:  1518230.619140625\n",
      "Epoch 107 loss:  1519619.671875\n",
      "Epoch 108 loss:  1420792.767578125\n",
      "Epoch 109 loss:  1344825.421875\n",
      "Epoch 110 loss:  1119928.34375\n",
      "Epoch 111 loss:  1229963.990234375\n",
      "Epoch 112 loss:  1042339.431640625\n",
      "Epoch 113 loss:  513511.076171875\n",
      "Epoch 114 loss:  1292321.6064453125\n",
      "Epoch 115 loss:  1044420.50390625\n",
      "Epoch 116 loss:  922615.9892578125\n",
      "Epoch 117 loss:  783289.9208984375\n",
      "Epoch 118 loss:  982832.650390625\n",
      "Epoch 119 loss:  1037772.4833984375\n",
      "Epoch 120 loss:  916987.4521484375\n",
      "Epoch 121 loss:  1190585.0185546875\n",
      "Epoch 122 loss:  470501.79345703125\n",
      "Epoch 123 loss:  735671.9711914062\n",
      "Epoch 124 loss:  826068.0190429688\n",
      "Epoch 125 loss:  560624.1376953125\n",
      "Epoch 126 loss:  727975.1245117188\n",
      "Epoch 127 loss:  681601.49609375\n",
      "Epoch 128 loss:  677931.9155273438\n",
      "Epoch 129 loss:  550404.9633789062\n",
      "Epoch 130 loss:  501365.04931640625\n",
      "Epoch 131 loss:  500214.5361328125\n",
      "Epoch 132 loss:  381808.68603515625\n",
      "Epoch 133 loss:  460837.87109375\n",
      "Epoch 134 loss:  476610.8291015625\n",
      "Epoch 135 loss:  513509.4931640625\n",
      "Epoch 136 loss:  680100.5161132812\n",
      "Epoch 137 loss:  379990.3857421875\n",
      "Epoch 138 loss:  552797.9548339844\n",
      "Epoch 139 loss:  588935.453125\n",
      "Epoch 140 loss:  790679.423828125\n",
      "Epoch 141 loss:  636565.6127929688\n",
      "Epoch 142 loss:  358397.08203125\n",
      "Epoch 143 loss:  448930.91796875\n",
      "Epoch 144 loss:  555164.2722167969\n",
      "Epoch 145 loss:  483055.9074707031\n",
      "Epoch 146 loss:  455102.369140625\n",
      "Epoch 147 loss:  240740.57153320312\n",
      "Epoch 148 loss:  351868.9538574219\n",
      "Epoch 149 loss:  328784.66259765625\n",
      "Epoch 150 loss:  282879.80615234375\n",
      "Epoch 151 loss:  287803.4826660156\n",
      "Epoch 152 loss:  471818.3251953125\n",
      "Epoch 153 loss:  344751.33056640625\n",
      "Epoch 154 loss:  263140.73388671875\n",
      "Epoch 155 loss:  277265.38037109375\n",
      "Epoch 156 loss:  179392.68603515625\n",
      "Epoch 157 loss:  170368.56896972656\n",
      "Epoch 158 loss:  232635.66137695312\n",
      "Epoch 159 loss:  191092.42700195312\n",
      "Epoch 160 loss:  176769.15234375\n",
      "Epoch 161 loss:  154239.79125976562\n",
      "Epoch 162 loss:  251838.7479248047\n",
      "Epoch 163 loss:  186153.80444335938\n",
      "Epoch 164 loss:  136110.5322265625\n",
      "Epoch 165 loss:  178264.8563232422\n",
      "Epoch 166 loss:  189488.4501953125\n",
      "Epoch 167 loss:  293669.5041503906\n",
      "Epoch 168 loss:  248117.17602539062\n",
      "Epoch 169 loss:  126040.27111816406\n",
      "Epoch 170 loss:  127740.32800292969\n",
      "Epoch 171 loss:  102849.705078125\n",
      "Epoch 172 loss:  143534.5545654297\n",
      "Epoch 173 loss:  535800.3531494141\n",
      "Epoch 174 loss:  215383.99975585938\n",
      "Epoch 175 loss:  111574.28747558594\n",
      "Epoch 176 loss:  76841.31396484375\n",
      "Epoch 177 loss:  209392.63061523438\n",
      "Epoch 178 loss:  110227.9995727539\n",
      "Epoch 179 loss:  149834.4757080078\n",
      "Epoch 180 loss:  396853.9987792969\n",
      "Epoch 181 loss:  346635.5119628906\n",
      "Epoch 182 loss:  592824.4602050781\n",
      "Epoch 183 loss:  343910.2297363281\n",
      "Epoch 184 loss:  490744.62841796875\n",
      "Epoch 185 loss:  2806983.1923828125\n",
      "Epoch 186 loss:  2555965.621948242\n",
      "Epoch 187 loss:  144549.21856689453\n",
      "Epoch 188 loss:  127964.48193359375\n",
      "Epoch 189 loss:  167148.95581054688\n",
      "Epoch 190 loss:  612905.8917236328\n",
      "Epoch 191 loss:  302863.63671875\n",
      "Epoch 192 loss:  447855.9757080078\n",
      "Epoch 193 loss:  182099.56018066406\n",
      "Epoch 194 loss:  490990.1320800781\n",
      "Epoch 195 loss:  778605.9147949219\n",
      "Epoch 196 loss:  615000.4895019531\n",
      "Epoch 197 loss:  266300.9562988281\n",
      "Epoch 198 loss:  219275.5888671875\n",
      "Epoch 199 loss:  496181.1114501953\n",
      "Epoch 200 loss:  361532.5838623047\n"
     ]
    }
   ],
   "source": [
    "from sklearn.utils import shuffle\n",
    "from torch.autograd import Variable\n",
    "running_loss = 0.0\n",
    "for epoch in range(num_epochs):\n",
    "    #Shuffle just mixes up the dataset between epocs\n",
    "    X_train, y_train = shuffle(X_train, y_train)\n",
    "    # Mini batch learning\n",
    "    for i in range(batch_no):\n",
    "        start = i * batch_size\n",
    "        end = start + batch_size\n",
    "        inputs = Variable(torch.FloatTensor(X_train[start:end]))\n",
    "        labels = Variable(torch.FloatTensor(y_train[start:end]))\n",
    "        # zero the parameter gradients\n",
    "        optimizer.zero_grad()\n",
    "\n",
    "        # forward + backward + optimize\n",
    "        outputs = net(inputs)\n",
    "        #print(\"outputs\",outputs)\n",
    "        #print(\"outputs\",outputs,outputs.shape,\"labels\",labels, labels.shape)\n",
    "        loss = criterion(outputs, torch.unsqueeze(labels,dim=1))\n",
    "        loss.backward()\n",
    "        optimizer.step()\n",
    "\n",
    "        # print statistics\n",
    "        running_loss += loss.item()\n",
    "        \n",
    "    print('Epoch {}'.format(epoch+1), \"loss: \",running_loss)\n",
    "    running_loss = 0.0"
   ]
  },
  {
   "cell_type": "code",
   "execution_count": 115,
   "metadata": {},
   "outputs": [
    {
     "name": "stdout",
     "output_type": "stream",
     "text": [
      "1022 1022\n"
     ]
    },
    {
     "data": {
      "text/plain": [
       "0.9999999280155084"
      ]
     },
     "execution_count": 115,
     "metadata": {},
     "output_type": "execute_result"
    }
   ],
   "source": [
    "\n",
    "import pandas as pd\n",
    "from sklearn.metrics import r2_score\n",
    "\n",
    "X = Variable(torch.FloatTensor(X_train)) \n",
    "result = net(X)\n",
    "pred=result.data[:,0].numpy()\n",
    "print(len(pred),len(y_train))\n",
    "r2_score(pred,y_train)"
   ]
  },
  {
   "cell_type": "code",
   "execution_count": 116,
   "metadata": {},
   "outputs": [],
   "source": [
    "import pandas as pd\n",
    "from sklearn.metrics import r2_score\n",
    "#This is a little bit tricky to get the resulting prediction.  \n",
    "def calculate_r2(x,y=[]):\n",
    "    \"\"\"\n",
    "    This function will return the r2 if passed x and y or return predictions if just passed x. \n",
    "    \"\"\"\n",
    "    # Evaluate the model with the test set. \n",
    "    X = Variable(torch.FloatTensor(x))  \n",
    "    result = net(X) #This outputs the value for regression\n",
    "    result=result.data[:,0].numpy()\n",
    "  \n",
    "    if len(y) != 0:\n",
    "        r2=r2_score(result, y)\n",
    "        print(\"R-Squared\", r2)\n",
    "        #print('Accuracy {:.2f}'.format(num_right / len(y)), \"for a total of \", len(y), \"records\")\n",
    "        return pd.DataFrame(data= {'actual': y, 'predicted': result})\n",
    "    else:\n",
    "        print(\"returning predictions\")\n",
    "        return result\n"
   ]
  },
  {
   "cell_type": "code",
   "execution_count": 117,
   "metadata": {},
   "outputs": [
    {
     "name": "stdout",
     "output_type": "stream",
     "text": [
      "R-Squared 0.9999999280155084\n",
      "R-Squared 0.9999999457465212\n"
     ]
    }
   ],
   "source": [
    "result1=calculate_r2(X_train,y_train)\n",
    "result2=calculate_r2(X_test,y_test)"
   ]
  },
  {
   "cell_type": "markdown",
   "metadata": {},
   "source": [
    "MODELING"
   ]
  },
  {
   "cell_type": "code",
   "execution_count": 118,
   "metadata": {},
   "outputs": [
    {
     "data": {
      "text/plain": [
       "LinearRegression(copy_X=True, fit_intercept=True, n_jobs=1, normalize=False)"
      ]
     },
     "execution_count": 118,
     "metadata": {},
     "output_type": "execute_result"
    }
   ],
   "source": [
    "from sklearn.linear_model import LinearRegression\n",
    "lm = LinearRegression()\n",
    "lm.fit( X_train, y_train )"
   ]
  },
  {
   "cell_type": "code",
   "execution_count": 119,
   "metadata": {},
   "outputs": [
    {
     "name": "stdout",
     "output_type": "stream",
     "text": [
      "R2 for Train) 1.0\n",
      "R2 for Test (cross validation) 1.0\n"
     ]
    }
   ],
   "source": [
    "print('R2 for Train)', lm.score( X_train, y_train ))\n",
    "print('R2 for Test (cross validation)', lm.score(X_test, y_test))"
   ]
  },
  {
   "cell_type": "code",
   "execution_count": null,
   "metadata": {},
   "outputs": [],
   "source": []
  }
 ],
 "metadata": {
  "kernelspec": {
   "display_name": "Python 3",
   "language": "python",
   "name": "python3"
  },
  "language_info": {
   "codemirror_mode": {
    "name": "ipython",
    "version": 3
   },
   "file_extension": ".py",
   "mimetype": "text/x-python",
   "name": "python",
   "nbconvert_exporter": "python",
   "pygments_lexer": "ipython3",
   "version": "3.6.6"
  }
 },
 "nbformat": 4,
 "nbformat_minor": 2
}
